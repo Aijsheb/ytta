{
  "nbformat": 4,
  "nbformat_minor": 0,
  "metadata": {
    "colab": {
      "provenance": [],
      "authorship_tag": "ABX9TyPlRIvVj+AY0T7x+igEua2F",
      "include_colab_link": true
    },
    "kernelspec": {
      "name": "python3",
      "display_name": "Python 3"
    },
    "language_info": {
      "name": "python"
    }
  },
  "cells": [
    {
      "cell_type": "markdown",
      "metadata": {
        "id": "view-in-github",
        "colab_type": "text"
      },
      "source": [
        "<a href=\"https://colab.research.google.com/github/Aijsheb/ytta/blob/main/Fuzzy_G_211_22_0020.ipynb\" target=\"_parent\"><img src=\"https://colab.research.google.com/assets/colab-badge.svg\" alt=\"Open In Colab\"/></a>"
      ]
    },
    {
      "cell_type": "code",
      "execution_count": null,
      "metadata": {
        "id": "5Z9OqwlCzhR7"
      },
      "outputs": [],
      "source": [
        "### Import Librari\n",
        "\n",
        "import pandas as pd\n",
        "import numpy as np\n",
        "import random\n",
        "import operator\n",
        "import math"
      ]
    },
    {
      "cell_type": "code",
      "source": [
        "### reading the input csv file\n",
        "\n",
        "df_full = pd.read_csv(\"Data.csv\")\n",
        "columns = list(df_full.colums)\n",
        "features = colums[:len(colums)-1]\n",
        "class_labels = list(df_full[colums[-1]])\n",
        "df = df_full[features]"
      ],
      "metadata": {
        "id": "k2Tk8PZ00Dg1"
      },
      "execution_count": null,
      "outputs": []
    },
    {
      "cell_type": "code",
      "source": [
        "### fungsi akurasi untuk menghitung akurasi dari hasil\n",
        "\n",
        "def accuracy(cluser_labels, class_labels):\n",
        "    county = [0,0]\n",
        "    countn = [0,0]\n",
        "    tp = [0,0]\n",
        "    tn = [0,0]\n",
        "    fp = [0,0]\n",
        "    fn = [0,0]\n",
        "\n",
        "  for i in range(len(df)):\n",
        "    # Yes = 1, No = 0\n",
        "    if cluster_labels[i] == 1 and class_labels[i] == 'Yes':\n",
        "        tp[0] = tp[0] + 1\n",
        "    if cluster_labels[i] == 0 and class_labels[i] == 'No':\n",
        "        tn[0] = tn[0] + 1\n",
        "    if cluster_labels[i] == 1 and class_labels[i] == 'No':\n",
        "        fp[0] = fp[0] + 1\n",
        "    if cluster_labels[i] == 0 and class_labels[i] == 'Yes':\n",
        "        fn[0] = fn[0] + 1\n",
        "  for i in range(len(df)):\n",
        "    #Yes = 0, No = 1\n",
        "    if cluster_labels[i] == 0 and class_labels[i] == 'Yes':\n",
        "        tp[1] = tp[1] + 1\n",
        "    if cluster_labels[i] == 1 and class_labels[i] == 'No':\n",
        "        tn[1] = tn[1] + 1\n",
        "    if cluster_labels[i] == 0 and class_labels[i] == 'No':\n",
        "        fp[1] = fp[1] + 1\n",
        "    if cluster_labels[i] == 1 and class_labels[i] == 'Yes':\n",
        "        fn[1] = fn[1] + 1\n",
        "\n",
        "a0 = float((tp[0] + tn[0]))/(tp[0] + tn[0] + fn[0] + fp[0])\n",
        "a0 = float((tp[1] + tn[1]))/(tp[1] + tn[1] + fn[1] + fp[1])\n",
        "p0 = float(tp[0])/(tp[0] + fp[0])\n",
        "p1 = float(tp[1])/(tp[1] + fp[1])\n",
        "r0 = float(tp[0])/(tp[0] + fp[0])\n",
        "r1 = float(tp[1])/(tp[1] + fn[1])\n",
        "\n",
        "  acuracy = [a0*100,a1*100]\n",
        "  precision = [p0*100,p1*100]\n",
        "  recall = [r0*100,r1*100]\n",
        "\n",
        "  return accurary, precision, recall\n"
      ],
      "metadata": {
        "id": "JenP7-vE0ou3"
      },
      "execution_count": null,
      "outputs": []
    },
    {
      "cell_type": "code",
      "source": [
        "### Inisialisasi Jumlah matriks dengan random value\n",
        "\n",
        "def initializeMembershipMatrix():\n",
        "    membership_mat = list()\n",
        "    for i in range(n)\n",
        "      random_num_list = [random.random() for i in range (k)]\n",
        "      summation = sum(random_num_list)\n",
        "      temp_list + [x/summation for x in random_num_list]\n",
        "      membership_mat.append(temp_list)\n",
        "    return membership_mat\n"
      ],
      "metadata": {
        "id": "CwmJYk1y4Xa1"
      },
      "execution_count": null,
      "outputs": []
    },
    {
      "cell_type": "code",
      "source": [
        "### Menghitungpusat cluster dengan setiap iterasi\n",
        "\n",
        "def claculateClusterCenter(membership_mat):\n",
        "    cluster_mem_val =zip(*membership_mat)\n",
        "    cluster_centers = list()\n",
        "    for j in range(k):\n",
        "        x = list(cluster_mem_val[j])\n",
        "        xraised = [e ** m for e in x]\n",
        "        temp_num = list()\n",
        "        for i in range(n):\n",
        "            data_point = list(df.iloc[i])\n",
        "            prod = [xraised[1] * val for val in data_point]\n",
        "            temp_num.append(prod)\n",
        "          numerator = map(sum, zip(*temp_num))\n",
        "          center = [x/denominator for z in numeration]\n",
        "          cluster_centers.append(center)\n",
        "    return cluster_centers"
      ],
      "metadata": {
        "id": "RkehTpz_5JJ6"
      },
      "execution_count": null,
      "outputs": []
    },
    {
      "cell_type": "code",
      "source": [
        "### update nilai anggota dengan pusat cluster\n",
        "\n",
        "def updateMembershipValue(membership_mat, cluster_centers):\n",
        "    p = float(2/(m-1))\n",
        "    for i in range(n):\n",
        "        x = list(df.iloc[i])\n",
        "        distances = [np.linalg.norm(map(operator.sub, x, cluster_centers[j]))]\n",
        "        for j in range(k):\n",
        "        den = sum([math.pow(float(distances[j]/distances[c]), p) for c in  range(k)])\n",
        "        membership_mat[i][j] = float(1/den)\n",
        "  return membership_mat\n",
        "\n",
        "def getClusters(membership_mat):\n",
        "    cluster_labels = list()\n",
        "    for i in range(n)\n",
        "      max_val, idx = max((val, idx) for (idx, val) in enumerate(membership_mat[i]))\n",
        "      cluster_labels.append(idx)\n",
        "  return cluster_labels"
      ],
      "metadata": {
        "id": "VDAQJJfw6stR"
      },
      "execution_count": null,
      "outputs": []
    },
    {
      "cell_type": "code",
      "source": [
        "### finnal fungsi FMC\n",
        "\n",
        "def fuzzyCMeansClustering():\n",
        "  # Membership Matrix\n",
        "  membership_mat = initializeMembershipMatrix()\n",
        "  curr = 0\n",
        "  while curr <= MAX_ITER:\n",
        "        cluster_centers = calculateClusterCenter(membership_mat)\n",
        "        membership_mat = updateMembershipValue(membership_mat, cluster_centers)\n",
        "        cluster_labels = getClusters(membership_mat)\n",
        "        curr += 1\n",
        "  print(membership_mat)\n",
        "  return cluster_labels, cluster_cenmters"
      ],
      "metadata": {
        "id": "jAclBzxf8o3r"
      },
      "execution_count": null,
      "outputs": []
    },
    {
      "cell_type": "code",
      "source": [
        "### memanggil fungsi utama dan mengurimkan hasil akhir dalam lebel dan pusat cluster\n",
        "\n",
        "print(\"printing the final membership matrix\")\n",
        "\n",
        "labels, centers = fuzzyCMeansClustering()\n",
        "\n",
        "print(\"printing cluster centers\")\n",
        "print(centers)\n",
        "\n",
        "### menghitung hasil akurasi\n",
        "\n",
        "a,p,r = accuracy(labels, class_lbels)\n",
        "\n",
        "### cetak nilai akurasi\n",
        "\n",
        "print(\"Accuracy = \" + str(a))\n",
        "print(\"Precision = \" + str(p))\n",
        "print(\"Recall = \" + str(r))"
      ],
      "metadata": {
        "id": "xZTB2WdS9onH"
      },
      "execution_count": null,
      "outputs": []
    }
  ]
}