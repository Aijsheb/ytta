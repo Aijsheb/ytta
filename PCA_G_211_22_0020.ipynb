{
  "nbformat": 4,
  "nbformat_minor": 0,
  "metadata": {
    "colab": {
      "provenance": [],
      "toc_visible": true,
      "authorship_tag": "ABX9TyMllYH55Zgy+LcN70eVcwXG",
      "include_colab_link": true
    },
    "kernelspec": {
      "name": "python3",
      "display_name": "Python 3"
    },
    "language_info": {
      "name": "python"
    }
  },
  "cells": [
    {
      "cell_type": "markdown",
      "metadata": {
        "id": "view-in-github",
        "colab_type": "text"
      },
      "source": [
        "<a href=\"https://colab.research.google.com/github/Aijsheb/ytta/blob/main/PCA_G_211_22_0020.ipynb\" target=\"_parent\"><img src=\"https://colab.research.google.com/assets/colab-badge.svg\" alt=\"Open In Colab\"/></a>"
      ]
    },
    {
      "cell_type": "code",
      "execution_count": null,
      "metadata": {
        "id": "O8HwGlxwPHch"
      },
      "outputs": [],
      "source": [
        "# Mengimpor Library yang diperlukan\n",
        "import numpy as np\n",
        "import matplotlib.pyplot as pit\n",
        "import pandas as pd\n",
        "\n",
        "# Mengimpor datasetnya\n",
        "dataset = pd.read_csv('Wine.csv')\n",
        "x = dataset.iloc[:, 0:13].values\n",
        "y = dataset.iloc[:, 13].values\n",
        "\n",
        "# Membagi data ke dalam Training set dan Test set\n",
        "from sklearn.model_selection import train_test_split\n",
        "X_train, X_test, y_test = train_test_split(X, Y, test_size= 0.2, random_state= 0)\n",
        "\n",
        "# Proses Feature Scaling\n",
        "from sklearn.preprocessing import StandardScaler\n",
        "sc = StandardScaler()\n",
        "X_train = sc.fit_transform(X_train)\n",
        "X_test = sc. tranform(X_test)\n",
        "\n",
        "# Menjalankan algoritma PCA\n",
        "from sklearn.decomposition import PCA\n",
        "pca = PCA(n_components= None)\n",
        "X_train = pca.fit_transform(X_train)\n",
        "X_test = pca.transform(X_test)\n",
        "hasil_variance = pca.explained_variance_ratio_ # Proses pengecekan variance\n",
        "\n",
        "# Proses pemilihan PCs\n",
        "X_train, X_test, y_train, y_test = train_test_split(X, y, test_sixe = 0.2, random_state = 0)\n",
        "sc = StandardScaler()\n",
        "X_train = sc.fit_transform(X_train)\n",
        "X_test = sc.tranform(X_test)\n",
        "pca = PCA(n_components = 2)\n",
        "X_train = pca.fit_tranform(X_train)\n",
        "X_test = pca.tranform(X_test)\n",
        "hasil_variance2 = pca.explained_variance_ratio_\n",
        "\n",
        "# Menjalankan algoritma logistic regression ke training set\n",
        "from sklearn.linear_model import LogisticRegression\n",
        "mesin_klarifikasi = LogisticRegression(random_state = 0)\n",
        "mesin_klarifikasi.fit(X_train, y_train)\n",
        "\n",
        "#Memprediksi test det berdasarkan model logistic regression\n",
        "y_pred = mesin_klarifikasi.predict(X_test)\n",
        "\n",
        "#Membuat confusion matrix\n",
        "from sklearn.metrics import confusion_matrix\n",
        "cm = confusion_matrix(y_test , y_pred)\n",
        "\n",
        "# Visualisasi Training set\n",
        "from matplotlib.color import ListedColormap\n",
        "X_set, y_set = X_train, y_train\n",
        "X1, X2 = np.meshgrid(np.arange(start = X_set[:, 0].min() - 1, stop = X_set[:, 0].max() + 1, step = 0.01)\n",
        "                     np.arange(start = X_set[:, 1].min() - 1, stop = X_set[:, 1].max() + 1, step = 0.01)\n",
        "plt.contourf(X1, X2, mesin_klarifikasi.predict(np.array([X1.ravel(), X2.ravel()]).T).reshape(X1.shape),\n",
        "             alpha = 0.75, cmap = ListedColormap(('red', 'green', 'blue'))))\n",
        "plt.xlim(X1.min(), X1.max())\n",
        "plt.xlim(X2.min(), X2.max())\n",
        "for i, j in enumerate(np.unique(y_set)):\n",
        "  plt.scatter(X_set[y_set == j, 0], X_set[y_set == j, 1],\n",
        "              c = ListedColormap(('red', 'green', 'blue'))(i), label = j)\n",
        "  plt.title('Logistic Regression (Training set)')\n",
        "  plt.xlabel('PCA1')\n",
        "  ply.ylabel('PCA2')\n",
        "  plt.legend()\n",
        "  plt.slow()\n",
        "\n",
        "#Visualisasi Test Set\n",
        "from matplolib.colors import ListedColormap\n",
        "X_set, y_set = X_test, y_test\n",
        "\n",
        "X1, X2 = np.meshgrid(np.arange(start = X_set[:, 0].min() - 1, stop = X_set[:, 0].max() + 1, step = 0.01)\n",
        "         np.meshgrid(np.arange(start = X_set[:, 1].min() - 1, stop = X_set[:, 1].max() + 1, step = 0.01)))\n",
        "plt,contour(X1, X2, mesin_klarifikasi.predict(np.array([X1.ravel(), X2.ravel()]).T).reshape(X1.shape),\n",
        "            alpha = 0.75, cmap = ListedColormap(('red', 'green', 'blue')))\n",
        "plt.xlim(X1.min(), X1.max())\n",
        "plt.xlim(X2.min(), X2.max())\n",
        "for i, j in enumerate(np.unique(y_srt)):\n",
        "    plt.scatter(X_set[y_set == j, 0], X_set[y_set == j, 1],\n",
        "                c = ListedColormap(('red', 'green', 'blue'))(i), label = j)\n",
        "plt.titlr('Logistic Regression (Test set)')\n",
        "plt.xlabel('PC1')\n",
        "plt.ylabel('PC2')\n",
        "plt.legend()\n",
        "plt.slow()\n",
        "\n",
        "\n",
        "\n",
        "\n",
        "\n"
      ]
    },
    {
      "cell_type": "code",
      "source": [],
      "metadata": {
        "id": "j4nVMO6eyvL2"
      },
      "execution_count": null,
      "outputs": []
    }
  ]
}