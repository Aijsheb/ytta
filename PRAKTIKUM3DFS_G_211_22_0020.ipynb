{
  "cells": [
    {
      "cell_type": "markdown",
      "metadata": {
        "id": "view-in-github",
        "colab_type": "text"
      },
      "source": [
        "<a href=\"https://colab.research.google.com/github/Aijsheb/ytta/blob/main/PRAKTIKUM3DFS_G_211_22_0020.ipynb\" target=\"_parent\"><img src=\"https://colab.research.google.com/assets/colab-badge.svg\" alt=\"Open In Colab\"/></a>"
      ]
    },
    {
      "cell_type": "code",
      "source": [
        "# Definisi struktur graf\n",
        "graph = {\n",
        "    'A': ['B', 'S'],\n",
        "    'B': ['A'],\n",
        "    'S': ['A', 'C'],\n",
        "    'C': ['S', 'D', 'E'],\n",
        "    'D': ['C'],\n",
        "    'E': ['C']\n",
        "}\n",
        "\n",
        "# Fungsi DFS rekursif\n",
        "def dfs(node, visited):\n",
        "    if node not in visited:\n",
        "        print(node, end=' ')\n",
        "        visited.add(node)\n",
        "        for neighbor in graph[node]:\n",
        "            dfs(neighbor, visited)\n",
        "\n",
        "# Memulai DFS dari node 'A'\n",
        "visited_nodes = set()\n",
        "dfs('A', visited_nodes)"
      ],
      "metadata": {
        "id": "GG_H3yMdAAym",
        "outputId": "06253ad2-4b3d-415d-8305-75b060a1eca0",
        "colab": {
          "base_uri": "https://localhost:8080/"
        }
      },
      "execution_count": null,
      "outputs": [
        {
          "output_type": "stream",
          "name": "stdout",
          "text": [
            "A B S C D E "
          ]
        }
      ]
    }
  ],
  "metadata": {
    "colab": {
      "toc_visible": true,
      "provenance": [],
      "include_colab_link": true
    },
    "kernelspec": {
      "display_name": "Python 3",
      "name": "python3"
    }
  },
  "nbformat": 4,
  "nbformat_minor": 0
}